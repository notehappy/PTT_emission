{
 "cells": [
  {
   "cell_type": "code",
   "execution_count": null,
   "metadata": {},
   "outputs": [],
   "source": [
    "import pandas as pd\n",
    "import numpy as np\n",
    "import geopandas as gpd\n",
    "import os\n",
    "import matplotlib.pyplot as plt\n",
    "import warnings\n",
    "from shapely.geometry import Point, LineString\n",
    "warnings.filterwarnings('ignore')"
   ]
  },
  {
   "cell_type": "code",
   "execution_count": null,
   "metadata": {},
   "outputs": [],
   "source": [
    "main = r'F:\\lampang_2'\n",
    "gdf_road = gpd.read_file(rf'{main}\\shapefile\\Road_Lampang.shp')\n",
    "# gdf_road.drop(columns= ['lane'], inplace = True)\n",
    "gdf_grid = gpd.read_file(rf'{main}\\shapefile\\Grid_Lampang.shp')\n",
    "gdf_grid.to_crs('EPSG:4326', inplace = True)\n",
    "gdf_grid.drop(columns = 'Id', inplace=True)\n",
    "grid_la = gpd.read_file(rf'{main}\\shapefile\\Grid_Lampang_label.shp')\n",
    "grid_la.to_crs('EPSG:4326', inplace = True)\n",
    "grid_la['Latitude'] = grid_la.geometry.y\n",
    "grid_la['Longigude'] = grid_la.geometry.x\n",
    "grid_la.drop(columns=['geometry', 'Id'], inplace=True)"
   ]
  },
  {
   "cell_type": "code",
   "execution_count": null,
   "metadata": {},
   "outputs": [],
   "source": [
    "road_grid = pd.DataFrame()\n",
    "for id in range(len(gdf_road.index)):\n",
    "    print(id)\n",
    "    gdf_test = gdf_road.iloc[[id]]\n",
    "    match = gpd.sjoin(gdf_test, gdf_grid)\n",
    "    match.drop(columns = 'geometry', inplace=True)\n",
    "    match = pd.merge(match, grid_la, left_on = 'index_right', right_index=True, how = 'left')\n",
    "    match.rename(columns = {'id' : 'ID_road', 'index_right' : 'ID_Grid'}, inplace=True)\n",
    "    road_grid = pd.concat([match, road_grid], axis=0)\n",
    "road_grid.sort_index(inplace = True)"
   ]
  },
  {
   "cell_type": "code",
   "execution_count": null,
   "metadata": {},
   "outputs": [],
   "source": [
    "#Extracting start and end points\n",
    "gdf = gdf_road\n",
    "gdf['first'] = None\n",
    "gdf['last'] = None\n",
    "\n",
    "for index, row in gdf.iterrows():\n",
    "    coords = [(coords) for coords in list(row['geometry'].coords)]\n",
    "    first_coord, last_coord = [ coords[i] for i in (0, -1) ]\n",
    "    gdf.at[index,'first'] = Point(first_coord)\n",
    "    gdf.at[index,'last'] = Point(last_coord)\n",
    "    gdf\n",
    "gdf_start = gdf.drop(columns = ['geometry', 'last'], axis = 1)\n",
    "gdf_start = gdf_start.set_geometry(\"first\")\n",
    "gdf_last = gdf.drop(columns = ['geometry', 'first'], axis = 1)\n",
    "gdf_last = gdf_last.set_geometry(\"last\")\n",
    "ESRI_WKT = 'GEOGCS[\"GCS_WGS_1984\",DATUM[\"D_WGS_1984\",SPHEROID[\"WGS_1984\",6378137,298.257223563]],PRIMEM[\"Greenwich\",0],UNIT[\"Degree\",0.017453292519943295]]'\n",
    "# gdf_start.to_file(filename = rf'{main}\\shapefile\\start_point.shp', driver = 'ESRI Shapefile',crs = ESRI_WKT)\n",
    "# gdf_last.to_file(filename = rf'{main}\\shapefile\\last_point.shp', driver = 'ESRI Shapefile',crs = ESRI_WKT)\n",
    "gdf.drop(columns = ['geometry'] , axis=1, inplace=True)\n",
    "gdf = gdf.set_geometry(\"first\")\n",
    "gdf['start_Latitude'] = gdf.geometry.y\n",
    "gdf['start_Longigude'] = gdf.geometry.x\n",
    "gdf = gdf.set_geometry(\"last\")\n",
    "gdf['end_Latitude'] = gdf.geometry.y\n",
    "gdf['end_Longigude'] = gdf.geometry.x\n",
    "gdf['start'] = gdf['start_Latitude'].astype(str) + ',' + gdf['start_Longigude'].astype(str)\n",
    "gdf['end'] = gdf['end_Latitude'].astype(str) + ',' + gdf['end_Longigude'].astype(str)"
   ]
  },
  {
   "cell_type": "code",
   "execution_count": 4,
   "metadata": {},
   "outputs": [
    {
     "ename": "NameError",
     "evalue": "name 'gdf' is not defined",
     "output_type": "error",
     "traceback": [
      "\u001b[1;31m---------------------------------------------------------------------------\u001b[0m",
      "\u001b[1;31mNameError\u001b[0m                                 Traceback (most recent call last)",
      "Cell \u001b[1;32mIn [4], line 2\u001b[0m\n\u001b[0;32m      1\u001b[0m writer \u001b[39m=\u001b[39m pd\u001b[39m.\u001b[39mExcelWriter(\u001b[39mr\u001b[39m\u001b[39m'\u001b[39m\u001b[39mF:\u001b[39m\u001b[39m\\\u001b[39m\u001b[39mlampang_2\u001b[39m\u001b[39m\\\u001b[39m\u001b[39mpiggy\u001b[39m\u001b[39m\\\u001b[39m\u001b[39mExample_Import-RoadData_Note.xlsx\u001b[39m\u001b[39m'\u001b[39m, engine \u001b[39m=\u001b[39m \u001b[39m'\u001b[39m\u001b[39mxlsxwriter\u001b[39m\u001b[39m'\u001b[39m)\n\u001b[1;32m----> 2\u001b[0m gdf\u001b[39m.\u001b[39mto_excel(writer, sheet_name \u001b[39m=\u001b[39m \u001b[39m'\u001b[39m\u001b[39mRoad\u001b[39m\u001b[39m'\u001b[39m)\n\u001b[0;32m      3\u001b[0m road_grid\u001b[39m.\u001b[39mto_excel(writer, sheet_name \u001b[39m=\u001b[39m \u001b[39m'\u001b[39m\u001b[39mGrid_Road\u001b[39m\u001b[39m'\u001b[39m)\n\u001b[0;32m      5\u001b[0m writer\u001b[39m.\u001b[39msave()\n",
      "\u001b[1;31mNameError\u001b[0m: name 'gdf' is not defined"
     ]
    }
   ],
   "source": [
    "writer = pd.ExcelWriter(r'F:\\lampang_2\\piggy\\Example_Import-RoadData_Note.xlsx', engine = 'xlsxwriter')\n",
    "gdf.to_excel(writer, sheet_name = 'Road')\n",
    "road_grid.to_excel(writer, sheet_name = 'Grid_Road')\n",
    "\n",
    "writer.save()\n",
    "writer.close()"
   ]
  },
  {
   "cell_type": "code",
   "execution_count": null,
   "metadata": {},
   "outputs": [],
   "source": []
  }
 ],
 "metadata": {
  "kernelspec": {
   "display_name": "Python 3.9.13 ('sdg')",
   "language": "python",
   "name": "python3"
  },
  "language_info": {
   "codemirror_mode": {
    "name": "ipython",
    "version": 3
   },
   "file_extension": ".py",
   "mimetype": "text/x-python",
   "name": "python",
   "nbconvert_exporter": "python",
   "pygments_lexer": "ipython3",
   "version": "3.9.13 | packaged by conda-forge | (main, May 27 2022, 16:50:36) [MSC v.1929 64 bit (AMD64)]"
  },
  "orig_nbformat": 4,
  "vscode": {
   "interpreter": {
    "hash": "e1ae9dc55eb9b0f72b92f44c53d57b6e0043baf82bc14dce730c2096f682b213"
   }
  }
 },
 "nbformat": 4,
 "nbformat_minor": 2
}
