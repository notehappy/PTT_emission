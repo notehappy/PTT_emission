{
 "cells": [
  {
   "cell_type": "code",
   "execution_count": null,
   "metadata": {},
   "outputs": [],
   "source": [
    "import pandas as pd\n",
    "import numpy as np\n",
    "import geopandas as gpd\n",
    "import os\n",
    "import matplotlib.pyplot as plt\n",
    "import warnings\n",
    "warnings.filterwarnings('ignore')"
   ]
  },
  {
   "cell_type": "code",
   "execution_count": null,
   "metadata": {},
   "outputs": [],
   "source": [
    "v1 = gpd.read_file('../ActiveFire/fire_nrt_J1V-C2_346197.shp')\n",
    "v2 = gpd.read_file('../ActiveFire/fire_nrt_SV-C2_346198.shp')\n",
    "viirs = pd.concat([v1,v2], axis=0)\n",
    "ptt = gpd.read_file('../Shapefile/prov_ปทุมธานี.shp', encoding='TIS-620')\n",
    "land_ptt = gpd.read_file('../Shapefile/LU_PTT_2562.shp', encoding='TIS-620')\n",
    "grid_ptt = gpd.read_file('../Shapefile/PTT_Grid.shp', encoding='TIS-620')\n",
    "ptt.to_crs('EPSG:4326', inplace = True)\n",
    "land_ptt.to_crs('EPSG:4326', inplace = True)\n",
    "grid_ptt.to_crs('EPSG:4326', inplace = True)\n",
    "grid_ptt['Id'] = np.arange(0,grid_ptt.shape[0],1)\n",
    "ef = pd.read_excel(f'../Data/Emission_factor_realtime.xlsx', sheet_name='EF_New_viirs')\n",
    "ef.set_index('LU_CODE', inplace=True) #kg/point\n",
    "ef = ef/3 # the fire with six hours"
   ]
  },
  {
   "cell_type": "code",
   "execution_count": null,
   "metadata": {},
   "outputs": [],
   "source": [
    "viirs['Date_Time'] = viirs['ACQ_DATE'] + ' ' + viirs['ACQ_TIME']\n",
    "viirs['Date_Time'] = pd.to_datetime(viirs['Date_Time'], format='%Y-%m-%d %H%M') +  pd.Timedelta(hours=7)"
   ]
  },
  {
   "cell_type": "code",
   "execution_count": null,
   "metadata": {},
   "outputs": [],
   "source": [
    "# =============================================================================\n",
    "# Intersection landuse and grid ID\n",
    "# =============================================================================\n",
    "active_ptt = viirs.overlay(land_ptt, how = 'intersection')\n",
    "active_ptt = active_ptt.overlay(grid_ptt, how = 'intersection')\n",
    "active_ptt.drop(columns=['LATITUDE', 'LONGITUDE', 'BRIGHTNESS', 'SCAN', 'TRACK', 'ACQ_DATE', 'ACQ_TIME', 'SATELLITE', 'INSTRUMENT', 'CONFIDENCE', 'VERSION',\n",
    "'BRIGHT_T31', 'FRP', 'DAYNIGHT', 'LU_ID_L1', 'LU_ID_L2', 'LU_ID_L3', 'LU_DES_TH', 'LU_DES_EN', 'LUL1_CODE', 'LUL2_CODE', 'LU_DES', 'RAI', 'geometry'], inplace = True)\n",
    "list_ef = list(ef.columns)\n",
    "for i in list_ef:\n",
    "    active_ptt[i] = np.nan\n",
    "# =============================================================================\n",
    "# Calculation emission\n",
    "# =============================================================================\n",
    "for pol in list_ef:\n",
    "    for i in active_ptt.index:\n",
    "        if active_ptt['LU_CODE'].iloc[i] in ef.index:\n",
    "            active_ptt[pol].iloc[i] = ef[pol].loc[active_ptt['LU_CODE'].iloc[i]]\n",
    "        else:\n",
    "            active_ptt[pol].iloc[i] = ef[pol].loc['A101']"
   ]
  },
  {
   "cell_type": "code",
   "execution_count": null,
   "metadata": {},
   "outputs": [],
   "source": [
    "active_ptt['Date_Time'] = active_ptt['Date_Time'].dt.floor('H')\n",
    "active_ptt = active_ptt.groupby(['Date_Time', 'Id']).sum()\n",
    "active_ptt.sort_index(inplace = True)\n",
    "active_ptt.reset_index(inplace=True)\n",
    "active_ptt.set_index('Date_Time', inplace = True, drop = True)\n",
    "date_range = pd.date_range(start=active_ptt.index[0], end=active_ptt.index[-1], freq='H')\n",
    "emission_combine = pd.DataFrame()\n",
    "for time in date_range:\n",
    "    time_start = time\n",
    "    time_stop = time + pd.Timedelta(hours=2)\n",
    "    list_time = pd.date_range(start=time_start, end = time_stop, freq='H')\n",
    "    for time1 in list_time:\n",
    "        try:\n",
    "            tem = active_ptt.loc[str(time)]\n",
    "            tem['Date_Time'] = time1\n",
    "            tem.set_index('Date_Time', inplace = True, drop = True)\n",
    "            emission_combine = pd.concat([emission_combine, tem], axis = 0)\n",
    "        except:\n",
    "            pass\n",
    "emission_combine.reset_index(inplace=True)\n",
    "emission_combine = emission_combine.groupby(['Date_Time', 'Id']).sum()\n",
    "emission_combine.reset_index(inplace=True)\n",
    "emission_combine.set_index('Date_Time', inplace = True, drop = True)"
   ]
  },
  {
   "cell_type": "code",
   "execution_count": null,
   "metadata": {},
   "outputs": [],
   "source": [
    "date_range1 = pd.date_range(start=emission_combine.index[0], end=emission_combine.index[-1], freq='H')\n",
    "for time in date_range1:\n",
    "    a = str(time)\n",
    "    try:\n",
    "        tem = pd.merge(grid_ptt, emission_combine.loc[time], left_on = 'Id', right_on ='Id')\n",
    "        for pol in list_ef:\n",
    "            fig, ax = plt.subplots(figsize=(30,20), dpi=200)\n",
    "            plt.rcParams['font.size'] = '24'\n",
    "            tem.plot(column=pol,\n",
    "                        ax=ax,\n",
    "                        # vmax=vmax,\n",
    "                        legend=True,\n",
    "                        legend_kwds={\n",
    "                            \"shrink\":.73\n",
    "                        })#, cmap='YlOrRd'\n",
    "\n",
    "            grid_ptt.plot(ax=ax, color='none', edgecolor='whitesmoke')\n",
    "            ptt.plot(ax=ax, color='none', edgecolor='red')\n",
    "            ax.set_title(f'{pol}_{a[:10]}_{a[11:13]}:00 (kg)');\n",
    "            ax.set_xlim([100.325, 100.96])\n",
    "            ax.set_ylim([13.91, 14.29])\n",
    "            fig.savefig(rf'../Activefire_figure/{pol}_{a[:10]}_{a[11:13]}_00.png', bbox_inches = 'tight')\n",
    "    except:\n",
    "        pass\n"
   ]
  },
  {
   "cell_type": "code",
   "execution_count": null,
   "metadata": {},
   "outputs": [],
   "source": [
    "fig, ax = plt.subplots(figsize=(30,20), dpi=200)\n",
    "plt.rcParams['font.size'] = '24'\n",
    "tem.plot(column='CO',\n",
    "            ax=ax,\n",
    "            # vmax=vmax,\n",
    "            legend=True,\n",
    "            legend_kwds={\n",
    "                \"shrink\":.73\n",
    "            })#, cmap='YlOrRd'\n",
    "\n",
    "grid_ptt.plot(ax=ax, color='none', edgecolor='whitesmoke')\n",
    "ptt.plot(ax=ax, color='none', edgecolor='red')\n",
    "# ax.set_title(f'{d}_{c[:8]}_{c[-4:-2]}:{c[-2:]}(g/hr)');\n",
    "ax.set_xlim([100.325, 100.96])\n",
    "ax.set_ylim([13.91, 14.29])\n",
    "fig.savefig(rf'test.png', bbox_inches = 'tight')"
   ]
  },
  {
   "cell_type": "code",
   "execution_count": null,
   "metadata": {},
   "outputs": [],
   "source": []
  }
 ],
 "metadata": {
  "kernelspec": {
   "display_name": "sdg",
   "language": "python",
   "name": "python3"
  },
  "language_info": {
   "codemirror_mode": {
    "name": "ipython",
    "version": 3
   },
   "file_extension": ".py",
   "mimetype": "text/x-python",
   "name": "python",
   "nbconvert_exporter": "python",
   "pygments_lexer": "ipython3",
   "version": "3.8.15"
  },
  "orig_nbformat": 4
 },
 "nbformat": 4,
 "nbformat_minor": 2
}
